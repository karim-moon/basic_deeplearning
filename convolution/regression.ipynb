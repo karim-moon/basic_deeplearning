{
 "cells": [
  {
   "cell_type": "code",
   "execution_count": 1,
   "metadata": {},
   "outputs": [],
   "source": [
    "import tensorflow as tf\n",
    "import numpy as np\n",
    "from tensorflow.keras.models import Sequential\n",
    "from tensorflow import keras\n",
    "\n",
    "\n",
    "EPOCHS = 50\n",
    "VALIDATION_SPLIT = 0.2\n",
    "BATCH_SIZE = 128\n",
    "VERBOSE = 1 \n",
    "NB_CLASSES = 10\n",
    "N_HIDDEN = 128"
   ]
  },
  {
   "cell_type": "code",
   "execution_count": 2,
   "metadata": {},
   "outputs": [],
   "source": [
    "from tensorflow.keras.datasets import mnist\n",
    "\n",
    "(X_train, Y_train), (X_valid, Y_valid) = mnist.load_data()"
   ]
  },
  {
   "cell_type": "code",
   "execution_count": 3,
   "metadata": {},
   "outputs": [
    {
     "name": "stderr",
     "output_type": "stream",
     "text": [
      "findfont: Font family ['NanumBarunpenRegular'] not found. Falling back to DejaVu Sans.\n",
      "findfont: Font family ['NanumBarunpenRegular'] not found. Falling back to DejaVu Sans.\n"
     ]
    },
    {
     "data": {
      "image/png": "[encoded data removed]",
      "text/plain": [
       "<Figure size 432x288 with 1 Axes>"
      ]
     },
     "metadata": {
      "needs_background": "light"
     },
     "output_type": "display_data"
    },
    {
     "name": "stdout",
     "output_type": "stream",
     "text": [
      "7\n"
     ]
    }
   ],
   "source": [
    "import matplotlib.pyplot as plt\n",
    "\n",
    "plt.imshow(X_train[29])\n",
    "plt.title('7? or 1?')\n",
    "plt.show()\n",
    "\n",
    "print(Y_train[29])"
   ]
  },
  {
   "cell_type": "code",
   "execution_count": 4,
   "metadata": {},
   "outputs": [],
   "source": [
    "#이미지를 전부 1차원 벡터로 치환\n",
    "RESHAPE = 784\n",
    "\n",
    "X_train = X_train.reshape(60000, RESHAPE)\n",
    "X_valid = X_valid.reshape(10000, RESHAPE)\n",
    "\n",
    "X_trian = X_train.astype('float32')\n",
    "X_valid = X_valid.astype('float32')"
   ]
  },
  {
   "cell_type": "code",
   "execution_count": 5,
   "metadata": {},
   "outputs": [],
   "source": [
    "X_train, X_valid = X_train/255. , X_valid/ 255."
   ]
  },
  {
   "cell_type": "code",
   "execution_count": 6,
   "metadata": {},
   "outputs": [],
   "source": [
    "Y_train = keras.utils.to_categorical(Y_train, NB_CLASSES)\n",
    "Y_valid = keras.utils.to_categorical(Y_valid, NB_CLASSES)"
   ]
  },
  {
   "cell_type": "code",
   "execution_count": 7,
   "metadata": {},
   "outputs": [
    {
     "name": "stdout",
     "output_type": "stream",
     "text": [
      "Model: \"sequential\"\n",
      "_________________________________________________________________\n",
      "Layer (type)                 Output Shape              Param #   \n",
      "=================================================================\n",
      "dense_layer (Dense)          (None, 128)               100480    \n",
      "_________________________________________________________________\n",
      "dropout (Dropout)            (None, 128)               0         \n",
      "_________________________________________________________________\n",
      "dense_layer_3 (Dense)        (None, 10)                1290      \n",
      "_________________________________________________________________\n",
      "dropout_1 (Dropout)          (None, 10)                0         \n",
      "=================================================================\n",
      "Total params: 101,770\n",
      "Trainable params: 101,770\n",
      "Non-trainable params: 0\n",
      "_________________________________________________________________\n"
     ]
    }
   ],
   "source": [
    "model = Sequential()\n",
    "\n",
    "model.add(keras.layers.Dense(N_HIDDEN, \n",
    "                             input_shape = (RESHAPE,), \n",
    "                             activation = 'relu',\n",
    "                             name = 'dense_layer'))\n",
    "\n",
    "model.add(keras.layers.Dropout(0.3))\n",
    "\n",
    "# model.add(keras.layers.Dense(N_HIDDEN , \n",
    "#                              activation= 'relu',\n",
    "#                              name = 'dense_layer_2'))\n",
    "\n",
    "# model.add(keras.layers.Dropout(0.3))\n",
    "\n",
    "model.add(keras.layers.Dense(NB_CLASSES,\n",
    "                             activation='softmax',\n",
    "                             name = 'dense_layer_3'))\n",
    "\n",
    "model.add(keras.layers.Dropout(0.3))\n",
    "\n",
    "model.summary()"
   ]
  },
  {
   "cell_type": "code",
   "execution_count": 8,
   "metadata": {},
   "outputs": [],
   "source": [
    "model.compile(optimizer= 'SGD',\n",
    "              loss = 'categorical_crossentropy',\n",
    "              metrics= ['accuracy'])"
   ]
  },
  {
   "cell_type": "code",
   "execution_count": null,
   "metadata": {},
   "outputs": [
    {
     "name": "stdout",
     "output_type": "stream",
     "text": [
      "Train on 48000 samples, validate on 12000 samples\n",
      "Epoch 1/50\n"
     ]
    }
   ],
   "source": [
    "model.fit(X_train,\n",
    "          Y_train,\n",
    "          epochs= EPOCHS,\n",
    "          batch_size= BATCH_SIZE, \n",
    "          verbose= VERBOSE,\n",
    "          validation_split= VALIDATION_SPLIT)"
   ]
  },
  {
   "cell_type": "code",
   "execution_count": 9,
   "metadata": {},
   "outputs": [],
   "source": [
    "def linear_layer(x):\n",
    "    return 3*x + 2\n",
    "\n",
    "@tf.function\n",
    "def simple_nn(x):\n",
    "    return tf.nn.relu(linear_layer(x))\n",
    "\n",
    "def simple_function(x):\n",
    "    return 3*x"
   ]
  },
  {
   "cell_type": "code",
   "execution_count": 10,
   "metadata": {},
   "outputs": [
    {
     "data": {
      "text/plain": [
       "<tensorflow.python.eager.def_function.Function at 0x7fd5cba2f8d0>"
      ]
     },
     "execution_count": 10,
     "metadata": {},
     "output_type": "execute_result"
    }
   ],
   "source": [
    "simple_nn"
   ]
  },
  {
   "cell_type": "code",
   "execution_count": 11,
   "metadata": {},
   "outputs": [
    {
     "data": {
      "text/plain": [
       "<function __main__.simple_function(x)>"
      ]
     },
     "execution_count": 11,
     "metadata": {},
     "output_type": "execute_result"
    }
   ],
   "source": [
    "simple_function"
   ]
  },
  {
   "cell_type": "code",
   "execution_count": 12,
   "metadata": {},
   "outputs": [
    {
     "name": "stdout",
     "output_type": "stream",
     "text": [
      "def tf__simple_nn(x):\n",
      "  do_return = False\n",
      "  retval_ = ag__.UndefinedReturnValue()\n",
      "  with ag__.FunctionScope('simple_nn', 'simple_nn_scope', ag__.ConversionOptions(recursive=True, user_requested=True, optional_features=(), internal_convert_user_code=True)) as simple_nn_scope:\n",
      "    do_return = True\n",
      "    retval_ = simple_nn_scope.mark_return_value(ag__.converted_call(tf.nn.relu, simple_nn_scope.callopts, (ag__.converted_call(linear_layer, simple_nn_scope.callopts, (x,), None, simple_nn_scope),), None, simple_nn_scope))\n",
      "  do_return,\n",
      "  return ag__.retval(retval_)\n",
      "\n"
     ]
    }
   ],
   "source": [
    "print(tf.autograph.to_code(simple_nn.python_function, experimental_optional_features=None))"
   ]
  },
  {
   "cell_type": "code",
   "execution_count": null,
   "metadata": {},
   "outputs": [],
   "source": [
    "import timeit\n",
    "\n",
    "cell = tf.keras.layers.LSTMCell(100)\n",
    "\n",
    "@tf.function\n",
    "def fn(input_a, state):\n",
    "    return cell(input_a,state)\n",
    "\n",
    "input_a = tf.zeros([100,100])\n",
    "state = [tf.zeros([100,100])] * 2\n",
    "\n",
    "cell(input_a, state)\n",
    "fn(input_a, state)\n",
    "\n",
    "graph_time = timeit.timeit(lambda: cell(input_a, state), number= 100)\n",
    "auto_graph_time = timeit.timeit(lambda: fn(input_a, state), number= 100)\n",
    "\n",
    "print('graph_time:', graph_time)\n",
    "print('auto_grapg_time:', auto_graph_time)"
   ]
  },
  {
   "cell_type": "code",
   "execution_count": 1,
   "metadata": {},
   "outputs": [
    {
     "ename": "NameError",
     "evalue": "name 'graph_time' is not defined",
     "output_type": "error",
     "traceback": [
      "\u001b[0;31m---------------------------------------------------------------------------\u001b[0m",
      "\u001b[0;31mNameError\u001b[0m                                 Traceback (most recent call last)",
      "\u001b[0;32m<ipython-input-1-446e522a105e>\u001b[0m in \u001b[0;36m<module>\u001b[0;34m\u001b[0m\n\u001b[0;32m----> 1\u001b[0;31m \u001b[0mgraph_time\u001b[0m\u001b[0;34m/\u001b[0m\u001b[0mauto_graph_time\u001b[0m\u001b[0;34m\u001b[0m\u001b[0;34m\u001b[0m\u001b[0m\n\u001b[0m",
      "\u001b[0;31mNameError\u001b[0m: name 'graph_time' is not defined"
     ]
    }
   ],
   "source": [
    "graph_time/auto_graph_time"
   ]
  },
  {
   "cell_type": "code",
   "execution_count": 6,
   "metadata": {},
   "outputs": [
    {
     "name": "stdout",
     "output_type": "stream",
     "text": [
      "<tensorflow.python.keras.engine.training.Model object at 0x7f9a323087d0>\n"
     ]
    }
   ],
   "source": [
    "def build_model():\n",
    "    text_input_a = tf.keras.Input(shape=(None,), dtype= 'int32')\n",
    "    \n",
    "    text_input_b = tf.keras.Input(shape=(None,), dtype= 'int32')\n",
    "    \n",
    "    shared_embedding = tf.keras.layers.Embedding(1000,128)\n",
    "    \n",
    "    encoded_input_a = shared_embedding(text_input_a)\n",
    "    encoded_input_b = shared_embedding(text_input_b)\n",
    "    \n",
    "    prediction_a = tf.keras.layers.Dense(1, activation= 'sigmoid', name= 'prediction_a')(encoded_input_a)\n",
    "    \n",
    "    prediction_b = tf.keras.layers.Dense(1, activation= 'sigmoid', name= 'prediction_b')(encoded_input_b)\n",
    "    \n",
    "    model = tf.keras.Model(inputs= [text_input_a, text_input_b], outputs= [prediction_a, prediction_b])\n",
    "    \n",
    "    tf.keras.utils.plot_model(model, to_file= 'shred_model.png')\n",
    "    print(model)\n",
    "    \n",
    "    \n",
    "build_model()"
   ]
  },
  {
   "cell_type": "code",
   "execution_count": 7,
   "metadata": {},
   "outputs": [],
   "source": [
    "from tensorflow.keras import layers\n",
    "class MyLayer(layers.Layer):\n",
    "    def __init__(self, output_dim, **kwargs):\n",
    "        self.output_dim = output_dim\n",
    "        super(MyLayer,self).__init__(**kwargs)\n",
    "        \n",
    "    def build(self, input_shape):\n",
    "        self.kernel = self.add_weight(name = 'kernel', \n",
    "                                      shape=(input_shape[1], self.output_dim),\n",
    "                                      initializer= 'uniform', \n",
    "                                      trainable= True)\n",
    "        \n",
    "    def call(self,inputs):\n",
    "        return tf.matmul(inputs, self.kernel)\n",
    "    \n",
    "    "
   ]
  },
  {
   "cell_type": "code",
   "execution_count": 8,
   "metadata": {},
   "outputs": [],
   "source": [
    "model = tf.keras.Sequential([MyLayer(20), layers.Activation('softmax')])"
   ]
  },
  {
   "cell_type": "code",
   "execution_count": 9,
   "metadata": {},
   "outputs": [
    {
     "data": {
      "image/png": "[encoded data removed]",
      "text/plain": [
       "<IPython.core.display.Image object>"
      ]
     },
     "execution_count": 9,
     "metadata": {},
     "output_type": "execute_result"
    }
   ],
   "source": [
    "from tensorflow.keras.utils import plot_model\n",
    "\n",
    "plot_model(model)"
   ]
  },
  {
   "cell_type": "code",
   "execution_count": 10,
   "metadata": {},
   "outputs": [
    {
     "data": {
      "text/plain": [
       "[]"
      ]
     },
     "execution_count": 10,
     "metadata": {},
     "output_type": "execute_result"
    }
   ],
   "source": [
    "model.inputs"
   ]
  },
  {
   "cell_type": "code",
   "execution_count": 11,
   "metadata": {},
   "outputs": [],
   "source": [
    "num_list = np.arange(100)\n",
    "\n",
    "num_list_dataset = tf.data.Dataset.from_tensor_slices(num_list)"
   ]
  },
  {
   "cell_type": "code",
   "execution_count": 12,
   "metadata": {},
   "outputs": [
    {
     "data": {
      "text/plain": [
       "<TensorSliceDataset shapes: (), types: tf.int64>"
      ]
     },
     "execution_count": 12,
     "metadata": {},
     "output_type": "execute_result"
    }
   ],
   "source": [
    "num_list_dataset"
   ]
  },
  {
   "cell_type": "code",
   "execution_count": 13,
   "metadata": {},
   "outputs": [
    {
     "data": {
      "text/plain": [
       "<RangeDataset shapes: (), types: tf.int64>"
      ]
     },
     "execution_count": 13,
     "metadata": {},
     "output_type": "execute_result"
    }
   ],
   "source": [
    "num_list_dataset.range(10)"
   ]
  },
  {
   "cell_type": "code",
   "execution_count": 14,
   "metadata": {},
   "outputs": [
    {
     "name": "stdout",
     "output_type": "stream",
     "text": [
      "WARNING:tensorflow:Calling GradientTape.gradient on a persistent tape inside its context is significantly less efficient than calling it outside the context (it causes the gradient ops to be recorded on the tape, leading to increased CPU and memory usage). Only call GradientTape.gradient inside the context if you actually want to trace the gradient in order to compute higher order derivatives.\n",
      "WARNING:tensorflow:Calling GradientTape.gradient on a persistent tape inside its context is significantly less efficient than calling it outside the context (it causes the gradient ops to be recorded on the tape, leading to increased CPU and memory usage). Only call GradientTape.gradient inside the context if you actually want to trace the gradient in order to compute higher order derivatives.\n",
      "tf.Tensor(256.0, shape=(), dtype=float32)\n",
      "tf.Tensor(8.0, shape=(), dtype=float32)\n"
     ]
    }
   ],
   "source": [
    "x = tf.constant(4.0)\n",
    "with tf.GradientTape(persistent= True) as g:\n",
    "    g.watch(x)\n",
    "    \n",
    "    y = x*x\n",
    "    z = y*y\n",
    "    \n",
    "    dz_dx = g.gradient(z,x)\n",
    "    dy_dx = g.gradient(y,x)\n",
    "        \n",
    "    print(dz_dx)\n",
    "    print(dy_dx)\n",
    "    del g"
   ]
  },
  {
   "cell_type": "code",
   "execution_count": 4,
   "metadata": {},
   "outputs": [],
   "source": [
    "import pandas as pd"
   ]
  },
  {
   "cell_type": "code",
   "execution_count": 15,
   "metadata": {},
   "outputs": [
    {
     "data": {
      "text/plain": [
       "<matplotlib.collections.PathCollection at 0x7f9b4e852310>"
      ]
     },
     "execution_count": 15,
     "metadata": {},
     "output_type": "execute_result"
    },
    {
     "data": {
      "image/png": "[encoded data removed]",
      "text/plain": [
       "<Figure size 432x288 with 1 Axes>"
      ]
     },
     "metadata": {
      "needs_background": "light"
     },
     "output_type": "display_data"
    }
   ],
   "source": [
    "np.random.seed(0)\n",
    "area = 2.5 * np.random.randn(100) + 25\n",
    "price = 25 * area + 5 + np.random.randint(20,50,size = len(area))\n",
    "\n",
    "data = np.array([area,price])\n",
    "\n",
    "data_frame = pd.DataFrame(data=data.T, columns=['area', 'price'])\n",
    "plt.scatter(data_frame['area'], data_frame['price'])"
   ]
  },
  {
   "cell_type": "code",
   "execution_count": 38,
   "metadata": {},
   "outputs": [],
   "source": [
    "W = sum(price * (area - np.mean(area))) / sum((area - np.mean(area)) ** 2)\n",
    "b = np.mean(price) - W*np.mean(area)"
   ]
  },
  {
   "cell_type": "code",
   "execution_count": 42,
   "metadata": {},
   "outputs": [],
   "source": [
    "y_pred = W*area + b"
   ]
  },
  {
   "cell_type": "code",
   "execution_count": 47,
   "metadata": {},
   "outputs": [
    {
     "data": {
      "text/plain": [
       "<matplotlib.legend.Legend at 0x7f9b51379b90>"
      ]
     },
     "execution_count": 47,
     "metadata": {},
     "output_type": "execute_result"
    },
    {
     "data": {
      "image/png": "[encoded data removed]",
      "text/plain": [
       "<Figure size 432x288 with 1 Axes>"
      ]
     },
     "metadata": {
      "needs_background": "light"
     },
     "output_type": "display_data"
    }
   ],
   "source": [
    "plt.plot(area, y_pred, color = 'red', label = 'Predicted Price')\n",
    "plt.scatter(data_frame['area'], data_frame['price'], label = 'price')\n",
    "plt.legend()"
   ]
  },
  {
   "cell_type": "code",
   "execution_count": 68,
   "metadata": {},
   "outputs": [],
   "source": [
    "area = tf.feature_column.numeric_column('area')\n",
    "bucket = tf.feature_column.bucketized_column(area, [23, 27])"
   ]
  },
  {
   "cell_type": "code",
   "execution_count": 103,
   "metadata": {},
   "outputs": [
    {
     "name": "stdout",
     "output_type": "stream",
     "text": [
      "Downloading data from https://storage.googleapis.com/tensorflow/tf-keras-datasets/boston_housing.npz\n",
      "57344/57026 [==============================] - 0s 0us/step\n"
     ]
    }
   ],
   "source": [
    "from tensorflow import feature_column as fc\n",
    "from tensorflow.keras.datasets import boston_housing\n",
    "\n",
    "(x_train, y_train), (x_valid, y_valid) = boston_housing.load_data()"
   ]
  },
  {
   "cell_type": "code",
   "execution_count": 104,
   "metadata": {},
   "outputs": [
    {
     "data": {
      "text/html": [
       "<div>\n",
       "<style scoped>\n",
       "    .dataframe tbody tr th:only-of-type {\n",
       "        vertical-align: middle;\n",
       "    }\n",
       "\n",
       "    .dataframe tbody tr th {\n",
       "        vertical-align: top;\n",
       "    }\n",
       "\n",
       "    .dataframe thead th {\n",
       "        text-align: right;\n",
       "    }\n",
       "</style>\n",
       "<table border=\"1\" class=\"dataframe\">\n",
       "  <thead>\n",
       "    <tr style=\"text-align: right;\">\n",
       "      <th></th>\n",
       "      <th>CRIM</th>\n",
       "      <th>ZN</th>\n",
       "      <th>INDUS</th>\n",
       "      <th>CHAS</th>\n",
       "      <th>NOX</th>\n",
       "      <th>RM</th>\n",
       "      <th>AGE</th>\n",
       "      <th>DIS</th>\n",
       "      <th>RAD</th>\n",
       "      <th>TAX</th>\n",
       "      <th>PTRATIO</th>\n",
       "      <th>B</th>\n",
       "      <th>LSTAT</th>\n",
       "    </tr>\n",
       "  </thead>\n",
       "  <tbody>\n",
       "    <tr>\n",
       "      <th>0</th>\n",
       "      <td>1.23247</td>\n",
       "      <td>0.0</td>\n",
       "      <td>8.14</td>\n",
       "      <td>0.0</td>\n",
       "      <td>0.538</td>\n",
       "      <td>6.142</td>\n",
       "      <td>91.7</td>\n",
       "      <td>3.9769</td>\n",
       "      <td>4.0</td>\n",
       "      <td>307.0</td>\n",
       "      <td>21.0</td>\n",
       "      <td>396.90</td>\n",
       "      <td>18.72</td>\n",
       "    </tr>\n",
       "    <tr>\n",
       "      <th>1</th>\n",
       "      <td>0.02177</td>\n",
       "      <td>82.5</td>\n",
       "      <td>2.03</td>\n",
       "      <td>0.0</td>\n",
       "      <td>0.415</td>\n",
       "      <td>7.610</td>\n",
       "      <td>15.7</td>\n",
       "      <td>6.2700</td>\n",
       "      <td>2.0</td>\n",
       "      <td>348.0</td>\n",
       "      <td>14.7</td>\n",
       "      <td>395.38</td>\n",
       "      <td>3.11</td>\n",
       "    </tr>\n",
       "    <tr>\n",
       "      <th>2</th>\n",
       "      <td>4.89822</td>\n",
       "      <td>0.0</td>\n",
       "      <td>18.10</td>\n",
       "      <td>0.0</td>\n",
       "      <td>0.631</td>\n",
       "      <td>4.970</td>\n",
       "      <td>100.0</td>\n",
       "      <td>1.3325</td>\n",
       "      <td>24.0</td>\n",
       "      <td>666.0</td>\n",
       "      <td>20.2</td>\n",
       "      <td>375.52</td>\n",
       "      <td>3.26</td>\n",
       "    </tr>\n",
       "    <tr>\n",
       "      <th>3</th>\n",
       "      <td>0.03961</td>\n",
       "      <td>0.0</td>\n",
       "      <td>5.19</td>\n",
       "      <td>0.0</td>\n",
       "      <td>0.515</td>\n",
       "      <td>6.037</td>\n",
       "      <td>34.5</td>\n",
       "      <td>5.9853</td>\n",
       "      <td>5.0</td>\n",
       "      <td>224.0</td>\n",
       "      <td>20.2</td>\n",
       "      <td>396.90</td>\n",
       "      <td>8.01</td>\n",
       "    </tr>\n",
       "    <tr>\n",
       "      <th>4</th>\n",
       "      <td>3.69311</td>\n",
       "      <td>0.0</td>\n",
       "      <td>18.10</td>\n",
       "      <td>0.0</td>\n",
       "      <td>0.713</td>\n",
       "      <td>6.376</td>\n",
       "      <td>88.4</td>\n",
       "      <td>2.5671</td>\n",
       "      <td>24.0</td>\n",
       "      <td>666.0</td>\n",
       "      <td>20.2</td>\n",
       "      <td>391.43</td>\n",
       "      <td>14.65</td>\n",
       "    </tr>\n",
       "  </tbody>\n",
       "</table>\n",
       "</div>"
      ],
      "text/plain": [
       "      CRIM    ZN  INDUS  CHAS    NOX     RM    AGE     DIS   RAD    TAX  \\\n",
       "0  1.23247   0.0   8.14   0.0  0.538  6.142   91.7  3.9769   4.0  307.0   \n",
       "1  0.02177  82.5   2.03   0.0  0.415  7.610   15.7  6.2700   2.0  348.0   \n",
       "2  4.89822   0.0  18.10   0.0  0.631  4.970  100.0  1.3325  24.0  666.0   \n",
       "3  0.03961   0.0   5.19   0.0  0.515  6.037   34.5  5.9853   5.0  224.0   \n",
       "4  3.69311   0.0  18.10   0.0  0.713  6.376   88.4  2.5671  24.0  666.0   \n",
       "\n",
       "   PTRATIO       B  LSTAT  \n",
       "0     21.0  396.90  18.72  \n",
       "1     14.7  395.38   3.11  \n",
       "2     20.2  375.52   3.26  \n",
       "3     20.2  396.90   8.01  \n",
       "4     20.2  391.43  14.65  "
      ]
     },
     "execution_count": 104,
     "metadata": {},
     "output_type": "execute_result"
    }
   ],
   "source": [
    "features = ['CRIM', 'ZN', 'INDUS', 'CHAS', 'NOX', 'RM', 'AGE', 'DIS', 'RAD', 'TAX',\n",
    "            'PTRATIO', 'B', 'LSTAT']\n",
    "\n",
    "x_train_df = pd.DataFrame(x_train, columns=features)\n",
    "x_valid_df = pd.DataFrame(x_valid, columns= features)\n",
    "\n",
    "y_train_df = pd.DataFrame(y_train, columns= ['MEDV'])\n",
    "y_valid_df = pd.DataFrame(y_valid, columns= ['MEDV'])\n",
    "\n",
    "x_train_df.head()"
   ]
  },
  {
   "cell_type": "code",
   "execution_count": 105,
   "metadata": {},
   "outputs": [],
   "source": [
    "feature_col = []\n",
    "\n",
    "for feature in features:\n",
    "    feature_col.append(fc.numeric_column(feature, dtype=tf.float32))"
   ]
  },
  {
   "cell_type": "code",
   "execution_count": 139,
   "metadata": {},
   "outputs": [],
   "source": [
    "def estimator_input_fc(df_data, df_label, epochs = 50, shuffle = True, batch_size = 32):\n",
    "    def input_function():\n",
    "        ds = tf.data.Dataset.from_tensor_slices((dict(df_data), df_label))\n",
    "        if shuffle:\n",
    "            ds = ds.shuffle(100)\n",
    "        ds = ds.batch(batch_size).repeat(epochs)\n",
    "        return ds\n",
    "    return input_function\n",
    "\n",
    "train_input_fn = estimator_input_fc(x_train_df, y_train_df)\n",
    "valid_input_fn = estimator_input_fc(x_valid_df, y_valid_df, epochs= 10, shuffle = False)"
   ]
  },
  {
   "cell_type": "code",
   "execution_count": 133,
   "metadata": {},
   "outputs": [
    {
     "name": "stdout",
     "output_type": "stream",
     "text": [
      "INFO:tensorflow:Using default config.\n",
      "INFO:tensorflow:Using config: {'_model_dir': 'logs/func/', '_tf_random_seed': None, '_save_summary_steps': 100, '_save_checkpoints_steps': None, '_save_checkpoints_secs': 600, '_session_config': allow_soft_placement: true\n",
      "graph_options {\n",
      "  rewrite_options {\n",
      "    meta_optimizer_iterations: ONE\n",
      "  }\n",
      "}\n",
      ", '_keep_checkpoint_max': 5, '_keep_checkpoint_every_n_hours': 10000, '_log_step_count_steps': 100, '_train_distribute': None, '_device_fn': None, '_protocol': None, '_eval_distribute': None, '_experimental_distribute': None, '_experimental_max_worker_delay_secs': None, '_session_creation_timeout_secs': 7200, '_service': None, '_cluster_spec': <tensorflow.python.training.server_lib.ClusterSpec object at 0x7f9b5c9b25d0>, '_task_type': 'worker', '_task_id': 0, '_global_id_in_cluster': 0, '_master': '', '_evaluation_master': '', '_is_chief': True, '_num_ps_replicas': 0, '_num_worker_replicas': 1}\n",
      "INFO:tensorflow:Calling model_fn.\n",
      "WARNING:tensorflow:Layer linear/linear_model is casting an input tensor from dtype float64 to the layer's dtype of float32, which is new behavior in TensorFlow 2.  The layer has dtype float32 because it's dtype defaults to floatx.\n",
      "\n",
      "If you intended to run this layer in float32, you can safely ignore this warning. If in doubt, this warning is likely only an issue if you are porting a TensorFlow 1.X model to TensorFlow 2.\n",
      "\n",
      "To change all layers to have dtype float64 by default, call `tf.keras.backend.set_floatx('float64')`. To change just this layer, pass dtype='float64' to the layer constructor. If you are the author of this layer, you can disable autocasting by passing autocast=False to the base Layer constructor.\n",
      "\n",
      "INFO:tensorflow:Done calling model_fn.\n",
      "INFO:tensorflow:Create CheckpointSaverHook.\n",
      "INFO:tensorflow:Graph was finalized.\n",
      "INFO:tensorflow:Restoring parameters from logs/func/model.ckpt-2050\n",
      "INFO:tensorflow:Running local_init_op.\n",
      "INFO:tensorflow:Done running local_init_op.\n",
      "INFO:tensorflow:Saving checkpoints for 2050 into logs/func/model.ckpt.\n",
      "INFO:tensorflow:loss = 33.443348, step = 2050\n",
      "INFO:tensorflow:global_step/sec: 180.094\n",
      "INFO:tensorflow:loss = 42.44142, step = 2150 (0.556 sec)\n",
      "INFO:tensorflow:global_step/sec: 495.871\n",
      "INFO:tensorflow:loss = 31.359993, step = 2250 (0.202 sec)\n",
      "INFO:tensorflow:global_step/sec: 476.474\n",
      "INFO:tensorflow:loss = 43.42366, step = 2350 (0.210 sec)\n",
      "INFO:tensorflow:global_step/sec: 481.026\n",
      "INFO:tensorflow:loss = 50.237732, step = 2450 (0.208 sec)\n",
      "INFO:tensorflow:global_step/sec: 481.612\n",
      "INFO:tensorflow:loss = 35.896107, step = 2550 (0.208 sec)\n",
      "INFO:tensorflow:global_step/sec: 482.549\n",
      "INFO:tensorflow:loss = 41.485786, step = 2650 (0.207 sec)\n",
      "INFO:tensorflow:Saving checkpoints for 2700 into logs/func/model.ckpt.\n",
      "WARNING:tensorflow:From /Users/apple/opt/anaconda3/lib/python3.7/site-packages/tensorflow_core/python/training/saver.py:963: remove_checkpoint (from tensorflow.python.training.checkpoint_management) is deprecated and will be removed in a future version.\n",
      "Instructions for updating:\n",
      "Use standard file APIs to delete files with this prefix.\n",
      "INFO:tensorflow:Loss for final step: 37.772663.\n"
     ]
    },
    {
     "data": {
      "text/plain": [
       "<tensorflow_estimator.python.estimator.canned.linear.LinearRegressorV2 at 0x7f9b57dbd7d0>"
      ]
     },
     "execution_count": 133,
     "metadata": {},
     "output_type": "execute_result"
    }
   ],
   "source": [
    "linear_est = tf.estimator.LinearRegressor(feature_columns= feature_col, model_dir='logs/func/')\n",
    "\n",
    "linear_est.train(train_input_fn, steps = 1000)\n"
   ]
  },
  {
   "cell_type": "code",
   "execution_count": 125,
   "metadata": {},
   "outputs": [
    {
     "name": "stdout",
     "output_type": "stream",
     "text": [
      "INFO:tensorflow:Calling model_fn.\n",
      "WARNING:tensorflow:Layer linear/linear_model is casting an input tensor from dtype float64 to the layer's dtype of float32, which is new behavior in TensorFlow 2.  The layer has dtype float32 because it's dtype defaults to floatx.\n",
      "\n",
      "If you intended to run this layer in float32, you can safely ignore this warning. If in doubt, this warning is likely only an issue if you are porting a TensorFlow 1.X model to TensorFlow 2.\n",
      "\n",
      "To change all layers to have dtype float64 by default, call `tf.keras.backend.set_floatx('float64')`. To change just this layer, pass dtype='float64' to the layer constructor. If you are the author of this layer, you can disable autocasting by passing autocast=False to the base Layer constructor.\n",
      "\n",
      "INFO:tensorflow:Done calling model_fn.\n",
      "INFO:tensorflow:Graph was finalized.\n",
      "INFO:tensorflow:Restoring parameters from logs/func/model.ckpt-750\n",
      "INFO:tensorflow:Running local_init_op.\n",
      "INFO:tensorflow:Done running local_init_op.\n",
      "Predicted Value:  1.3625456 Expected:  7.2\n",
      "Predicted Value:  20.134804 Expected:  18.8\n",
      "Predicted Value:  20.203714 Expected:  19.0\n",
      "Predicted Value:  28.132212 Expected:  27.0\n",
      "Predicted Value:  21.787481 Expected:  22.2\n",
      "Predicted Value:  17.050577 Expected:  24.5\n",
      "Predicted Value:  28.356012 Expected:  31.2\n",
      "Predicted Value:  24.369469 Expected:  22.9\n",
      "Predicted Value:  16.705051 Expected:  20.5\n",
      "Predicted Value:  21.042053 Expected:  23.2\n",
      "Predicted Value:  13.94082 Expected:  18.6\n",
      "Predicted Value:  22.824097 Expected:  14.5\n",
      "Predicted Value:  18.85763 Expected:  17.8\n",
      "Predicted Value:  25.208044 Expected:  50.0\n",
      "Predicted Value:  17.814798 Expected:  20.8\n",
      "Predicted Value:  22.131132 Expected:  24.3\n",
      "Predicted Value:  17.614424 Expected:  24.2\n",
      "Predicted Value:  18.501268 Expected:  19.8\n",
      "Predicted Value:  20.684828 Expected:  19.1\n",
      "Predicted Value:  27.689909 Expected:  22.7\n",
      "Predicted Value:  13.064975 Expected:  12.0\n",
      "Predicted Value:  5.9241357 Expected:  10.2\n",
      "Predicted Value:  19.770489 Expected:  20.0\n",
      "Predicted Value:  19.276463 Expected:  18.5\n",
      "Predicted Value:  26.27862 Expected:  20.9\n",
      "Predicted Value:  22.08686 Expected:  23.0\n",
      "Predicted Value:  27.669168 Expected:  27.5\n",
      "Predicted Value:  32.983177 Expected:  30.1\n",
      "Predicted Value:  5.9873896 Expected:  9.5\n",
      "Predicted Value:  20.080214 Expected:  22.0\n",
      "Predicted Value:  20.950884 Expected:  21.2\n",
      "Predicted Value:  9.572207 Expected:  14.1\n"
     ]
    }
   ],
   "source": [
    "result = linear_est.predict(valid_input_fn)\n",
    "\n",
    "for pred, exp in zip(result, y_valid[:32]):\n",
    "    print('Predicted Value: ', pred['predictions'][0], 'Expected: ', exp)"
   ]
  },
  {
   "cell_type": "code",
   "execution_count": 119,
   "metadata": {},
   "outputs": [],
   "source": [
    "# Load the TensorBoard notebook extension\n",
    "%load_ext tensorboard"
   ]
  },
  {
   "cell_type": "code",
   "execution_count": 134,
   "metadata": {},
   "outputs": [
    {
     "name": "stdout",
     "output_type": "stream",
     "text": [
      "INFO:tensorflow:Calling model_fn.\n",
      "WARNING:tensorflow:Layer linear/linear_model is casting an input tensor from dtype float64 to the layer's dtype of float32, which is new behavior in TensorFlow 2.  The layer has dtype float32 because it's dtype defaults to floatx.\n",
      "\n",
      "If you intended to run this layer in float32, you can safely ignore this warning. If in doubt, this warning is likely only an issue if you are porting a TensorFlow 1.X model to TensorFlow 2.\n",
      "\n",
      "To change all layers to have dtype float64 by default, call `tf.keras.backend.set_floatx('float64')`. To change just this layer, pass dtype='float64' to the layer constructor. If you are the author of this layer, you can disable autocasting by passing autocast=False to the base Layer constructor.\n",
      "\n",
      "INFO:tensorflow:Done calling model_fn.\n",
      "INFO:tensorflow:Starting evaluation at 2020-10-16T10:45:58Z\n",
      "INFO:tensorflow:Graph was finalized.\n",
      "INFO:tensorflow:Restoring parameters from logs/func/model.ckpt-2700\n",
      "INFO:tensorflow:Running local_init_op.\n",
      "INFO:tensorflow:Done running local_init_op.\n",
      "INFO:tensorflow:Finished evaluation at 2020-10-16-10:45:59\n",
      "INFO:tensorflow:Saving dict for global step 2700: average_loss = 39.366898, global_step = 2700, label/mean = 23.078432, loss = 48.970634, prediction/mean = 21.622478\n",
      "INFO:tensorflow:Saving 'checkpoint_path' summary for global step 2700: logs/func/model.ckpt-2700\n"
     ]
    }
   ],
   "source": [
    "result = linear_est.evaluate(valid_input_fn)"
   ]
  },
  {
   "cell_type": "code",
   "execution_count": 135,
   "metadata": {},
   "outputs": [
    {
     "data": {
      "text/plain": [
       "{'average_loss': 39.366898,\n",
       " 'label/mean': 23.078432,\n",
       " 'loss': 48.970634,\n",
       " 'prediction/mean': 21.622478,\n",
       " 'global_step': 2700}"
      ]
     },
     "execution_count": 135,
     "metadata": {},
     "output_type": "execute_result"
    }
   ],
   "source": [
    "result"
   ]
  },
  {
   "cell_type": "code",
   "execution_count": 2,
   "metadata": {},
   "outputs": [],
   "source": [
    "x = np.random.sample((10, 2))\n",
    "dataset = tf.data.Dataset.from_tensor_slices(x)"
   ]
  },
  {
   "cell_type": "code",
   "execution_count": 28,
   "metadata": {},
   "outputs": [
    {
     "name": "stdout",
     "output_type": "stream",
     "text": [
      "[[0.48956208 0.51111639]\n",
      " [0.24103127 0.42463291]\n",
      " [0.36984917 0.7935709 ]\n",
      " [0.00680012 0.77073399]]\n",
      "[[0.4950665  0.8130363 ]\n",
      " [0.13828114 0.99847478]\n",
      " [0.74919929 0.76613003]\n",
      " [0.25578231 0.26882977]]\n",
      "[[0.35276526 0.10317293]\n",
      " [0.59533357 0.41616088]]\n",
      "[[0.48956208 0.51111639]\n",
      " [0.24103127 0.42463291]\n",
      " [0.36984917 0.7935709 ]\n",
      " [0.00680012 0.77073399]]\n",
      "[[0.4950665  0.8130363 ]\n",
      " [0.13828114 0.99847478]\n",
      " [0.74919929 0.76613003]\n",
      " [0.25578231 0.26882977]]\n",
      "[[0.35276526 0.10317293]\n",
      " [0.59533357 0.41616088]]\n",
      "[[0.48956208 0.51111639]\n",
      " [0.24103127 0.42463291]\n",
      " [0.36984917 0.7935709 ]\n",
      " [0.00680012 0.77073399]]\n"
     ]
    }
   ],
   "source": [
    "for a in dataset.batch(4).repeat(3).take(7):\n",
    "    print(a.numpy())"
   ]
  },
  {
   "cell_type": "code",
   "execution_count": 18,
   "metadata": {},
   "outputs": [
    {
     "data": {
      "text/plain": [
       "array([[0.48956208, 0.51111639],\n",
       "       [0.24103127, 0.42463291],\n",
       "       [0.36984917, 0.7935709 ],\n",
       "       [0.00680012, 0.77073399],\n",
       "       [0.4950665 , 0.8130363 ],\n",
       "       [0.13828114, 0.99847478],\n",
       "       [0.74919929, 0.76613003],\n",
       "       [0.25578231, 0.26882977],\n",
       "       [0.35276526, 0.10317293],\n",
       "       [0.59533357, 0.41616088]])"
      ]
     },
     "execution_count": 18,
     "metadata": {},
     "output_type": "execute_result"
    }
   ],
   "source": [
    "x"
   ]
  },
  {
   "cell_type": "code",
   "execution_count": null,
   "metadata": {},
   "outputs": [],
   "source": []
  }
 ],
 "metadata": {
  "kernelspec": {
   "display_name": "Python 3",
   "language": "python",
   "name": "python3"
  },
  "language_info": {
   "codemirror_mode": {
    "name": "ipython",
    "version": 3
   },
   "file_extension": ".py",
   "mimetype": "text/x-python",
   "name": "python",
   "nbconvert_exporter": "python",
   "pygments_lexer": "ipython3",
   "version": "3.7.6"
  },
  "varInspector": {
   "cols": {
    "lenName": 16,
    "lenType": 16,
    "lenVar": 40
   },
   "kernels_config": {
    "python": {
     "delete_cmd_postfix": "",
     "delete_cmd_prefix": "del ",
     "library": "var_list.py",
     "varRefreshCmd": "print(var_dic_list())"
    },
    "r": {
     "delete_cmd_postfix": ") ",
     "delete_cmd_prefix": "rm(",
     "library": "var_list.r",
     "varRefreshCmd": "cat(var_dic_list()) "
    }
   },
   "types_to_exclude": [
    "module",
    "function",
    "builtin_function_or_method",
    "instance",
    "_Feature"
   ],
   "window_display": false
  }
 },
 "nbformat": 4,
 "nbformat_minor": 4
}
