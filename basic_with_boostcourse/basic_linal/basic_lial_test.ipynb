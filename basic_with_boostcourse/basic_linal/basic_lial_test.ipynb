{
 "cells": [
  {
   "cell_type": "markdown",
   "metadata": {},
   "source": [
    "# test"
   ]
  },
  {
   "cell_type": "markdown",
   "metadata": {},
   "source": [
    "커넥트재단 부스트 코스에 올라온 머신러닝을 위한 파이썬 파트1\n",
    "\n",
    "basic linear algebra assignment 코드입니다.\n",
    "\n",
    "기존 numpy로 구현하였던 것을 numpy를 사용하지 않고 파이썬 기본 코드로 구현하여보았습니다.\n",
    "\n",
    "코드의 대부분을 list comprehension을 이용하여 pythonic하게 표현하려 노력하였습니다."
   ]
  },
  {
   "cell_type": "code",
   "execution_count": 1,
   "metadata": {},
   "outputs": [],
   "source": [
    "from basic_linear_algebra import *"
   ]
  },
  {
   "cell_type": "code",
   "execution_count": 2,
   "metadata": {},
   "outputs": [],
   "source": [
    "ex_a = [1, 2, 3, 4, 5, 6, 7, 8, 9]\n",
    "ex_b = [9, 8, 7, 6, 5, 4, 3, 2, 1]\n",
    "ex_c = [5, 6, 7, 8]\n",
    "ex_d = [4, 7, 3, 1]\n",
    "ex_e = [3, 5, 6, 7, 8, 9, 0, 10, 1]"
   ]
  },
  {
   "cell_type": "code",
   "execution_count": 3,
   "metadata": {},
   "outputs": [
    {
     "name": "stdout",
     "output_type": "stream",
     "text": [
      "같은 사이즈의 벡터:  True\n",
      "다른 사이즈의 벡터:  False\n"
     ]
    }
   ],
   "source": [
    "#vector_size_check\n",
    "print('같은 사이즈의 벡터: ', vector_size_check(ex_a, ex_b))\n",
    "print('다른 사이즈의 벡터: ', vector_size_check(ex_a, ex_c))"
   ]
  },
  {
   "cell_type": "code",
   "execution_count": 4,
   "metadata": {},
   "outputs": [
    {
     "name": "stdout",
     "output_type": "stream",
     "text": [
      "같은 사이즈 벡터 연산\n",
      "[13, 15, 16, 17, 18, 19, 10, 20, 11]\n",
      "다른 사이즈의 벡터 연산은 Arithmatic error출력\n"
     ]
    },
    {
     "ename": "ArithmeticError",
     "evalue": "",
     "output_type": "error",
     "traceback": [
      "\u001b[0;31m---------------------------------------------------------------------------\u001b[0m",
      "\u001b[0;31mArithmeticError\u001b[0m                           Traceback (most recent call last)",
      "\u001b[0;32m<ipython-input-4-7c1a430e45a6>\u001b[0m in \u001b[0;36m<module>\u001b[0;34m\u001b[0m\n\u001b[1;32m      3\u001b[0m \u001b[0mprint\u001b[0m\u001b[0;34m(\u001b[0m\u001b[0mvector_addition\u001b[0m\u001b[0;34m(\u001b[0m\u001b[0mex_a\u001b[0m\u001b[0;34m,\u001b[0m \u001b[0mex_b\u001b[0m\u001b[0;34m,\u001b[0m \u001b[0mex_e\u001b[0m\u001b[0;34m)\u001b[0m\u001b[0;34m)\u001b[0m\u001b[0;34m\u001b[0m\u001b[0;34m\u001b[0m\u001b[0m\n\u001b[1;32m      4\u001b[0m \u001b[0mprint\u001b[0m\u001b[0;34m(\u001b[0m\u001b[0;34m'다른 사이즈의 벡터 연산은 Arithmatic error출력'\u001b[0m\u001b[0;34m)\u001b[0m\u001b[0;34m\u001b[0m\u001b[0;34m\u001b[0m\u001b[0m\n\u001b[0;32m----> 5\u001b[0;31m \u001b[0mprint\u001b[0m\u001b[0;34m(\u001b[0m\u001b[0mvector_addition\u001b[0m\u001b[0;34m(\u001b[0m\u001b[0mex_a\u001b[0m\u001b[0;34m,\u001b[0m \u001b[0mex_e\u001b[0m\u001b[0;34m,\u001b[0m \u001b[0mex_c\u001b[0m\u001b[0;34m)\u001b[0m\u001b[0;34m)\u001b[0m\u001b[0;34m\u001b[0m\u001b[0;34m\u001b[0m\u001b[0m\n\u001b[0m",
      "\u001b[0;32m~/jupyter_project/basic_deeplearning/basic_with_boostcourse/basic_linal/basic_linear_algebra.py\u001b[0m in \u001b[0;36mvector_addition\u001b[0;34m(*vector_variables)\u001b[0m\n\u001b[1;32m      8\u001b[0m         \u001b[0;32mreturn\u001b[0m \u001b[0;34m[\u001b[0m\u001b[0msum\u001b[0m\u001b[0;34m(\u001b[0m\u001b[0mele\u001b[0m\u001b[0;34m)\u001b[0m \u001b[0;32mfor\u001b[0m \u001b[0mele\u001b[0m \u001b[0;32min\u001b[0m \u001b[0mzip\u001b[0m\u001b[0;34m(\u001b[0m\u001b[0;34m*\u001b[0m\u001b[0mvector_variables\u001b[0m\u001b[0;34m)\u001b[0m\u001b[0;34m]\u001b[0m\u001b[0;34m\u001b[0m\u001b[0;34m\u001b[0m\u001b[0m\n\u001b[1;32m      9\u001b[0m     \u001b[0;32melse\u001b[0m\u001b[0;34m:\u001b[0m\u001b[0;34m\u001b[0m\u001b[0;34m\u001b[0m\u001b[0m\n\u001b[0;32m---> 10\u001b[0;31m         \u001b[0;32mraise\u001b[0m \u001b[0mArithmeticError\u001b[0m\u001b[0;34m\u001b[0m\u001b[0;34m\u001b[0m\u001b[0m\n\u001b[0m\u001b[1;32m     11\u001b[0m \u001b[0;34m\u001b[0m\u001b[0m\n\u001b[1;32m     12\u001b[0m \u001b[0;34m\u001b[0m\u001b[0m\n",
      "\u001b[0;31mArithmeticError\u001b[0m: "
     ]
    }
   ],
   "source": [
    "#vector addition\n",
    "print('같은 사이즈 벡터 연산')\n",
    "print(vector_addition(ex_a, ex_b, ex_e))\n",
    "print('다른 사이즈의 벡터 연산은 Arithmatic error출력')\n",
    "print(vector_addition(ex_a, ex_e, ex_c))"
   ]
  },
  {
   "cell_type": "code",
   "execution_count": 5,
   "metadata": {},
   "outputs": [
    {
     "name": "stdout",
     "output_type": "stream",
     "text": [
      "같은 사이즈 벡터 연산\n",
      "[-11, -11, -10, -9, -8, -7, 4, -4, 7]\n",
      "다른 사이즈의 벡터 연산은 Arithmatic error출력\n"
     ]
    },
    {
     "ename": "ArithmeticError",
     "evalue": "",
     "output_type": "error",
     "traceback": [
      "\u001b[0;31m---------------------------------------------------------------------------\u001b[0m",
      "\u001b[0;31mArithmeticError\u001b[0m                           Traceback (most recent call last)",
      "\u001b[0;32m<ipython-input-5-9cf2f6c9dda6>\u001b[0m in \u001b[0;36m<module>\u001b[0;34m\u001b[0m\n\u001b[1;32m      3\u001b[0m \u001b[0mprint\u001b[0m\u001b[0;34m(\u001b[0m\u001b[0mvector_subtraction\u001b[0m\u001b[0;34m(\u001b[0m\u001b[0mex_a\u001b[0m\u001b[0;34m,\u001b[0m \u001b[0mex_b\u001b[0m\u001b[0;34m,\u001b[0m \u001b[0mex_e\u001b[0m\u001b[0;34m)\u001b[0m\u001b[0;34m)\u001b[0m\u001b[0;34m\u001b[0m\u001b[0;34m\u001b[0m\u001b[0m\n\u001b[1;32m      4\u001b[0m \u001b[0mprint\u001b[0m\u001b[0;34m(\u001b[0m\u001b[0;34m'다른 사이즈의 벡터 연산은 Arithmatic error출력'\u001b[0m\u001b[0;34m)\u001b[0m\u001b[0;34m\u001b[0m\u001b[0;34m\u001b[0m\u001b[0m\n\u001b[0;32m----> 5\u001b[0;31m \u001b[0mprint\u001b[0m\u001b[0;34m(\u001b[0m\u001b[0mvector_subtraction\u001b[0m\u001b[0;34m(\u001b[0m\u001b[0mex_a\u001b[0m\u001b[0;34m,\u001b[0m \u001b[0mex_e\u001b[0m\u001b[0;34m,\u001b[0m \u001b[0mex_c\u001b[0m\u001b[0;34m)\u001b[0m\u001b[0;34m)\u001b[0m\u001b[0;34m\u001b[0m\u001b[0;34m\u001b[0m\u001b[0m\n\u001b[0m",
      "\u001b[0;32m~/jupyter_project/basic_deeplearning/basic_with_boostcourse/basic_linal/basic_linear_algebra.py\u001b[0m in \u001b[0;36mvector_subtraction\u001b[0;34m(*vector_variables)\u001b[0m\n\u001b[1;32m     16\u001b[0m         \u001b[0;32mreturn\u001b[0m \u001b[0;34m[\u001b[0m\u001b[0;36m2\u001b[0m\u001b[0;34m*\u001b[0m\u001b[0mele\u001b[0m\u001b[0;34m[\u001b[0m\u001b[0;36m0\u001b[0m\u001b[0;34m]\u001b[0m \u001b[0;34m-\u001b[0m \u001b[0msum\u001b[0m\u001b[0;34m(\u001b[0m\u001b[0mele\u001b[0m\u001b[0;34m)\u001b[0m \u001b[0;32mfor\u001b[0m \u001b[0mele\u001b[0m \u001b[0;32min\u001b[0m \u001b[0mzip\u001b[0m\u001b[0;34m(\u001b[0m\u001b[0;34m*\u001b[0m\u001b[0mvector_variables\u001b[0m\u001b[0;34m)\u001b[0m\u001b[0;34m]\u001b[0m\u001b[0;34m\u001b[0m\u001b[0;34m\u001b[0m\u001b[0m\n\u001b[1;32m     17\u001b[0m     \u001b[0;32melse\u001b[0m\u001b[0;34m:\u001b[0m\u001b[0;34m\u001b[0m\u001b[0;34m\u001b[0m\u001b[0m\n\u001b[0;32m---> 18\u001b[0;31m         \u001b[0;32mraise\u001b[0m \u001b[0mArithmeticError\u001b[0m\u001b[0;34m\u001b[0m\u001b[0;34m\u001b[0m\u001b[0m\n\u001b[0m\u001b[1;32m     19\u001b[0m \u001b[0;34m\u001b[0m\u001b[0m\n\u001b[1;32m     20\u001b[0m \u001b[0;34m\u001b[0m\u001b[0m\n",
      "\u001b[0;31mArithmeticError\u001b[0m: "
     ]
    }
   ],
   "source": [
    "#vector_subtraction\n",
    "print('같은 사이즈 벡터 연산')\n",
    "print(vector_subtraction(ex_a, ex_b, ex_e))\n",
    "print('다른 사이즈의 벡터 연산은 Arithmatic error출력')\n",
    "print(vector_subtraction(ex_a, ex_e, ex_c))"
   ]
  },
  {
   "cell_type": "code",
   "execution_count": 6,
   "metadata": {},
   "outputs": [
    {
     "name": "stdout",
     "output_type": "stream",
     "text": [
      "4 곱하기 [1, 2, 3, 4, 5, 6, 7, 8, 9]\n"
     ]
    },
    {
     "data": {
      "text/plain": [
       "[4, 8, 12, 16, 20, 24, 28, 32, 36]"
      ]
     },
     "execution_count": 6,
     "metadata": {},
     "output_type": "execute_result"
    }
   ],
   "source": [
    "#scalar_matrix_product\n",
    "print(f'4 곱하기 {ex_a}') \n",
    "scalar_vector_product(4, ex_a) #expected [4,8,12,16, 20, 24, 28, 32, 36]"
   ]
  },
  {
   "cell_type": "code",
   "execution_count": 7,
   "metadata": {},
   "outputs": [],
   "source": [
    "ex_mat_a = [[1, 2, 3], [4, 5, 6], [7, 8, 9]]\n",
    "ex_mat_b = [[9, 8, 7], [6, 5, 4], [3, 2, 1]]\n",
    "ex_mat_c = [[9, 8, 7], [6, 5, 4], [3, 2, 1]]\n",
    "ex_mat_d = [[7, 7, 7], [7, 7, 7]]\n",
    "ex_mat_e = [[1, 2], [3, 4], [5, 6]]"
   ]
  },
  {
   "cell_type": "code",
   "execution_count": 8,
   "metadata": {},
   "outputs": [
    {
     "name": "stdout",
     "output_type": "stream",
     "text": [
      "같은 사이즈 매트릭스일때\n",
      "True\n",
      "다른 사이즈 매트릭스일때\n",
      "False\n"
     ]
    }
   ],
   "source": [
    "#matrix_size_check\n",
    "#매트릭스 덧셈 뺄셈이 가능한지 사이즈를 체크\n",
    "\n",
    "print('같은 사이즈 매트릭스일때')\n",
    "print(matrix_size_check(ex_mat_a, ex_mat_b))\n",
    "print('다른 사이즈 매트릭스일때')\n",
    "print(matrix_size_check(ex_mat_a, ex_mat_d))"
   ]
  },
  {
   "cell_type": "code",
   "execution_count": 9,
   "metadata": {},
   "outputs": [
    {
     "name": "stdout",
     "output_type": "stream",
     "text": [
      "같은 사이즈 매트릭스 연산\n",
      "[[19, 18, 17], [16, 15, 14], [13, 12, 11]]\n",
      "다른 사이즈의 매트릭스 연산은 Arithmatic error출력\n"
     ]
    },
    {
     "ename": "ArithmeticError",
     "evalue": "",
     "output_type": "error",
     "traceback": [
      "\u001b[0;31m---------------------------------------------------------------------------\u001b[0m",
      "\u001b[0;31mArithmeticError\u001b[0m                           Traceback (most recent call last)",
      "\u001b[0;32m<ipython-input-9-6683c9107ca9>\u001b[0m in \u001b[0;36m<module>\u001b[0;34m\u001b[0m\n\u001b[1;32m      4\u001b[0m \u001b[0mprint\u001b[0m\u001b[0;34m(\u001b[0m\u001b[0mmatrix_addition\u001b[0m\u001b[0;34m(\u001b[0m\u001b[0mex_mat_a\u001b[0m\u001b[0;34m,\u001b[0m \u001b[0mex_mat_b\u001b[0m\u001b[0;34m,\u001b[0m \u001b[0mex_mat_c\u001b[0m\u001b[0;34m)\u001b[0m\u001b[0;34m)\u001b[0m\u001b[0;34m\u001b[0m\u001b[0;34m\u001b[0m\u001b[0m\n\u001b[1;32m      5\u001b[0m \u001b[0mprint\u001b[0m\u001b[0;34m(\u001b[0m\u001b[0;34m'다른 사이즈의 매트릭스 연산은 Arithmatic error출력'\u001b[0m\u001b[0;34m)\u001b[0m\u001b[0;34m\u001b[0m\u001b[0;34m\u001b[0m\u001b[0m\n\u001b[0;32m----> 6\u001b[0;31m \u001b[0mprint\u001b[0m\u001b[0;34m(\u001b[0m\u001b[0mmatrix_addition\u001b[0m\u001b[0;34m(\u001b[0m\u001b[0mex_mat_a\u001b[0m\u001b[0;34m,\u001b[0m \u001b[0mex_mat_b\u001b[0m\u001b[0;34m,\u001b[0m \u001b[0mex_mat_e\u001b[0m\u001b[0;34m)\u001b[0m\u001b[0;34m)\u001b[0m\u001b[0;34m\u001b[0m\u001b[0;34m\u001b[0m\u001b[0m\n\u001b[0m",
      "\u001b[0;32m~/jupyter_project/basic_deeplearning/basic_with_boostcourse/basic_linal/basic_linear_algebra.py\u001b[0m in \u001b[0;36mmatrix_addition\u001b[0;34m(*matrix_variables)\u001b[0m\n\u001b[1;32m     40\u001b[0m \u001b[0;32mdef\u001b[0m \u001b[0mmatrix_addition\u001b[0m\u001b[0;34m(\u001b[0m\u001b[0;34m*\u001b[0m\u001b[0mmatrix_variables\u001b[0m\u001b[0;34m)\u001b[0m\u001b[0;34m:\u001b[0m\u001b[0;34m\u001b[0m\u001b[0;34m\u001b[0m\u001b[0m\n\u001b[1;32m     41\u001b[0m     \u001b[0;32mif\u001b[0m \u001b[0mmatrix_size_check\u001b[0m\u001b[0;34m(\u001b[0m\u001b[0;34m*\u001b[0m\u001b[0mmatrix_variables\u001b[0m\u001b[0;34m)\u001b[0m \u001b[0;34m==\u001b[0m \u001b[0;32mFalse\u001b[0m\u001b[0;34m:\u001b[0m\u001b[0;34m\u001b[0m\u001b[0;34m\u001b[0m\u001b[0m\n\u001b[0;32m---> 42\u001b[0;31m         \u001b[0;32mraise\u001b[0m \u001b[0mArithmeticError\u001b[0m\u001b[0;34m\u001b[0m\u001b[0;34m\u001b[0m\u001b[0m\n\u001b[0m\u001b[1;32m     43\u001b[0m     \u001b[0;32mreturn\u001b[0m \u001b[0;34m[\u001b[0m\u001b[0mvector_addition\u001b[0m\u001b[0;34m(\u001b[0m\u001b[0;34m*\u001b[0m\u001b[0mele\u001b[0m\u001b[0;34m)\u001b[0m \u001b[0;32mfor\u001b[0m \u001b[0mele\u001b[0m \u001b[0;32min\u001b[0m \u001b[0mzip\u001b[0m\u001b[0;34m(\u001b[0m\u001b[0;34m*\u001b[0m\u001b[0mmatrix_variables\u001b[0m\u001b[0;34m)\u001b[0m\u001b[0;34m]\u001b[0m\u001b[0;34m\u001b[0m\u001b[0;34m\u001b[0m\u001b[0m\n\u001b[1;32m     44\u001b[0m \u001b[0;34m\u001b[0m\u001b[0m\n",
      "\u001b[0;31mArithmeticError\u001b[0m: "
     ]
    }
   ],
   "source": [
    "#matrix_addition\n",
    "\n",
    "print('같은 사이즈 매트릭스 연산')\n",
    "print(matrix_addition(ex_mat_a, ex_mat_b, ex_mat_c))\n",
    "print('다른 사이즈의 매트릭스 연산은 Arithmatic error출력')\n",
    "print(matrix_addition(ex_mat_a, ex_mat_b, ex_mat_e))"
   ]
  },
  {
   "cell_type": "code",
   "execution_count": 10,
   "metadata": {},
   "outputs": [
    {
     "name": "stdout",
     "output_type": "stream",
     "text": [
      "같은 사이즈 매트릭스 연산\n",
      "[[-17, -14, -11], [-8, -5, -2], [1, 4, 7]]\n",
      "다른 사이즈의 매트릭스 연산은 Arithmatic error출력\n"
     ]
    },
    {
     "ename": "ArithmeticError",
     "evalue": "",
     "output_type": "error",
     "traceback": [
      "\u001b[0;31m---------------------------------------------------------------------------\u001b[0m",
      "\u001b[0;31mArithmeticError\u001b[0m                           Traceback (most recent call last)",
      "\u001b[0;32m<ipython-input-10-a645c0c648fd>\u001b[0m in \u001b[0;36m<module>\u001b[0;34m\u001b[0m\n\u001b[1;32m      4\u001b[0m \u001b[0mprint\u001b[0m\u001b[0;34m(\u001b[0m\u001b[0mmatrix_subtraction\u001b[0m\u001b[0;34m(\u001b[0m\u001b[0mex_mat_a\u001b[0m\u001b[0;34m,\u001b[0m \u001b[0mex_mat_b\u001b[0m\u001b[0;34m,\u001b[0m \u001b[0mex_mat_c\u001b[0m\u001b[0;34m)\u001b[0m\u001b[0;34m)\u001b[0m\u001b[0;34m\u001b[0m\u001b[0;34m\u001b[0m\u001b[0m\n\u001b[1;32m      5\u001b[0m \u001b[0mprint\u001b[0m\u001b[0;34m(\u001b[0m\u001b[0;34m'다른 사이즈의 매트릭스 연산은 Arithmatic error출력'\u001b[0m\u001b[0;34m)\u001b[0m\u001b[0;34m\u001b[0m\u001b[0;34m\u001b[0m\u001b[0m\n\u001b[0;32m----> 6\u001b[0;31m \u001b[0mprint\u001b[0m\u001b[0;34m(\u001b[0m\u001b[0mmatrix_subtraction\u001b[0m\u001b[0;34m(\u001b[0m\u001b[0mex_mat_a\u001b[0m\u001b[0;34m,\u001b[0m \u001b[0mex_mat_b\u001b[0m\u001b[0;34m,\u001b[0m \u001b[0mex_mat_e\u001b[0m\u001b[0;34m)\u001b[0m\u001b[0;34m)\u001b[0m\u001b[0;34m\u001b[0m\u001b[0;34m\u001b[0m\u001b[0m\n\u001b[0m",
      "\u001b[0;32m~/jupyter_project/basic_deeplearning/basic_with_boostcourse/basic_linal/basic_linear_algebra.py\u001b[0m in \u001b[0;36mmatrix_subtraction\u001b[0;34m(*matrix_variables)\u001b[0m\n\u001b[1;32m     46\u001b[0m \u001b[0;32mdef\u001b[0m \u001b[0mmatrix_subtraction\u001b[0m\u001b[0;34m(\u001b[0m\u001b[0;34m*\u001b[0m\u001b[0mmatrix_variables\u001b[0m\u001b[0;34m)\u001b[0m\u001b[0;34m:\u001b[0m\u001b[0;34m\u001b[0m\u001b[0;34m\u001b[0m\u001b[0m\n\u001b[1;32m     47\u001b[0m     \u001b[0;32mif\u001b[0m \u001b[0mmatrix_size_check\u001b[0m\u001b[0;34m(\u001b[0m\u001b[0;34m*\u001b[0m\u001b[0mmatrix_variables\u001b[0m\u001b[0;34m)\u001b[0m \u001b[0;34m==\u001b[0m \u001b[0;32mFalse\u001b[0m\u001b[0;34m:\u001b[0m\u001b[0;34m\u001b[0m\u001b[0;34m\u001b[0m\u001b[0m\n\u001b[0;32m---> 48\u001b[0;31m         \u001b[0;32mraise\u001b[0m \u001b[0mArithmeticError\u001b[0m\u001b[0;34m\u001b[0m\u001b[0;34m\u001b[0m\u001b[0m\n\u001b[0m\u001b[1;32m     49\u001b[0m     \u001b[0;32mreturn\u001b[0m \u001b[0;34m[\u001b[0m\u001b[0mvector_subtraction\u001b[0m\u001b[0;34m(\u001b[0m\u001b[0;34m*\u001b[0m\u001b[0mele\u001b[0m\u001b[0;34m)\u001b[0m \u001b[0;32mfor\u001b[0m \u001b[0mele\u001b[0m \u001b[0;32min\u001b[0m \u001b[0mzip\u001b[0m\u001b[0;34m(\u001b[0m\u001b[0;34m*\u001b[0m\u001b[0mmatrix_variables\u001b[0m\u001b[0;34m)\u001b[0m\u001b[0;34m]\u001b[0m\u001b[0;34m\u001b[0m\u001b[0;34m\u001b[0m\u001b[0m\n\u001b[1;32m     50\u001b[0m \u001b[0;34m\u001b[0m\u001b[0m\n",
      "\u001b[0;31mArithmeticError\u001b[0m: "
     ]
    }
   ],
   "source": [
    "#matrix_subtraction\n",
    "\n",
    "print('같은 사이즈 매트릭스 연산')\n",
    "print(matrix_subtraction(ex_mat_a, ex_mat_b, ex_mat_c))\n",
    "print('다른 사이즈의 매트릭스 연산은 Arithmatic error출력')\n",
    "print(matrix_subtraction(ex_mat_a, ex_mat_b, ex_mat_e))"
   ]
  },
  {
   "cell_type": "code",
   "execution_count": 11,
   "metadata": {},
   "outputs": [
    {
     "data": {
      "text/plain": [
       "True"
      ]
     },
     "execution_count": 11,
     "metadata": {},
     "output_type": "execute_result"
    }
   ],
   "source": [
    "#is_matrix_equal\n",
    "\n",
    "is_matrix_equal(ex_mat_b, ex_mat_c)"
   ]
  },
  {
   "cell_type": "code",
   "execution_count": 12,
   "metadata": {},
   "outputs": [
    {
     "name": "stdout",
     "output_type": "stream",
     "text": [
      "원 행렬\n",
      "[[1, 2, 3], [4, 5, 6], [7, 8, 9]]\n",
      "전치 행렬\n",
      "[[1, 4, 7], [2, 5, 8], [3, 6, 9]]\n",
      "원 행렬\n",
      "[[7, 7, 7], [7, 7, 7]]\n",
      "전치 행렬\n",
      "[[7, 7], [7, 7], [7, 7]]\n"
     ]
    }
   ],
   "source": [
    "#matrix_transpose\n",
    "print('원 행렬')\n",
    "print(ex_mat_a)\n",
    "print('전치 행렬')\n",
    "print(matrix_transpose(ex_mat_a))\n",
    "\n",
    "print('원 행렬')\n",
    "print(ex_mat_d)\n",
    "print('전치 행렬')\n",
    "print(matrix_transpose(ex_mat_d))"
   ]
  },
  {
   "cell_type": "code",
   "execution_count": 13,
   "metadata": {},
   "outputs": [
    {
     "data": {
      "text/plain": [
       "[[2, 4, 6], [8, 10, 12], [14, 16, 18]]"
      ]
     },
     "execution_count": 13,
     "metadata": {},
     "output_type": "execute_result"
    }
   ],
   "source": [
    "#scalar_matrix_product\n",
    "\n",
    "scalar_matrix_product(2,ex_mat_a)"
   ]
  },
  {
   "cell_type": "code",
   "execution_count": 14,
   "metadata": {},
   "outputs": [
    {
     "data": {
      "text/plain": [
       "True"
      ]
     },
     "execution_count": 14,
     "metadata": {},
     "output_type": "execute_result"
    }
   ],
   "source": [
    "#is_product_availability_matrix\n",
    "#행렬곱 연산이 가능한지 체크\n",
    "\n",
    "# ex_mat_a는 3 *3 행렬\n",
    "# ex_mat_e는 3 * 2 행렬\n",
    "\n",
    "#3 * 2 size의 \n",
    "is_product_availability_matrix(ex_mat_a, ex_mat_e)"
   ]
  },
  {
   "cell_type": "code",
   "execution_count": 15,
   "metadata": {},
   "outputs": [
    {
     "data": {
      "text/plain": [
       "[[22, 28], [49, 64], [76, 100]]"
      ]
     },
     "execution_count": 15,
     "metadata": {},
     "output_type": "execute_result"
    }
   ],
   "source": [
    "#matrix_product\n",
    "#ex_mat_a와 ex_mat_e연산 -> 3 * 2 사이즈의 연산결과 출력\n",
    "\n",
    "matrix_product(ex_mat_a, ex_mat_e)"
   ]
  }
 ],
 "metadata": {
  "kernelspec": {
   "display_name": "Python 3",
   "language": "python",
   "name": "python3"
  },
  "language_info": {
   "codemirror_mode": {
    "name": "ipython",
    "version": 3
   },
   "file_extension": ".py",
   "mimetype": "text/x-python",
   "name": "python",
   "nbconvert_exporter": "python",
   "pygments_lexer": "ipython3",
   "version": "3.7.6"
  },
  "varInspector": {
   "cols": {
    "lenName": 16,
    "lenType": 16,
    "lenVar": 40
   },
   "kernels_config": {
    "python": {
     "delete_cmd_postfix": "",
     "delete_cmd_prefix": "del ",
     "library": "var_list.py",
     "varRefreshCmd": "print(var_dic_list())"
    },
    "r": {
     "delete_cmd_postfix": ") ",
     "delete_cmd_prefix": "rm(",
     "library": "var_list.r",
     "varRefreshCmd": "cat(var_dic_list()) "
    }
   },
   "types_to_exclude": [
    "module",
    "function",
    "builtin_function_or_method",
    "instance",
    "_Feature"
   ],
   "window_display": false
  }
 },
 "nbformat": 4,
 "nbformat_minor": 4
}
